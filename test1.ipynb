{
 "cells": [
  {
   "cell_type": "markdown",
   "metadata": {},
   "source": [
    "This main notebook is to connect the SciAnalysis to the perovskite work we are doing"
   ]
  },
  {
   "cell_type": "code",
   "execution_count": 1,
   "metadata": {},
   "outputs": [],
   "source": [
    "# cloning the SciAnalysis repo for immediate use\n",
    "# git clone https://github.com/CFN-softbio/SciAnalysis.git\n",
    "\n",
    "# for users that has this already install, please just reference the repo"
   ]
  },
  {
   "cell_type": "code",
   "execution_count": null,
   "metadata": {},
   "outputs": [],
   "source": []
  }
 ],
 "metadata": {
  "kernelspec": {
   "display_name": "Python 3.9.12 ('base')",
   "language": "python",
   "name": "python3"
  },
  "language_info": {
   "codemirror_mode": {
    "name": "ipython",
    "version": 3
   },
   "file_extension": ".py",
   "mimetype": "text/x-python",
   "name": "python",
   "nbconvert_exporter": "python",
   "pygments_lexer": "ipython3",
   "version": "3.9.12"
  },
  "orig_nbformat": 4,
  "vscode": {
   "interpreter": {
    "hash": "9b5eb16d612f6e97997a2ef20cbe24ecd0e59e92f0aba06ecaeb1634ac87089b"
   }
  }
 },
 "nbformat": 4,
 "nbformat_minor": 2
}
