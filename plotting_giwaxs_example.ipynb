{
 "cells": [
  {
   "cell_type": "code",
   "execution_count": null,
   "metadata": {},
   "outputs": [],
   "source": [
    "import sys, os\n",
    "import glob\n",
    "import matplotlib.pylab as plt\n",
    "import numpy as np\n",
    "import scipy as sp\n",
    "import pandas as pd\n",
    "\n",
    "# cloning the SciAnalysis repo for immediate use\n",
    "# git clone https://github.com/CFN-softbio/SciAnalysis.git\n",
    "\n",
    "# for users that has this already install, please just reference the repo\n",
    "SciAnalysis_PATH='/Users/wenbinli/SciAnalysis'\n",
    "SciAnalysis_PATH in sys.path or sys.path.append(SciAnalysis_PATH)\n",
    "\n",
    "from SciAnalysis import tools\n",
    "from SciAnalysis.XSAnalysis.Data import *\n",
    "from SciAnalysis.XSAnalysis import Protocols\n",
    "\n",
    "\n",
    "\n",
    "from utils.giwaxs_figure import plot_giwaxs\n",
    "\n",
    "\n",
    "filepath = '/Users/wenbinli/Library/CloudStorage/Box-Box/BNL March 2022 Data/AMohite2/maxs/raw'\n",
    "\n",
    "data_name = filepath +'/'+\"FAPI_MACl_hum_light_4_113.6s_RH94.012_x-0.000_th0.200_1.00s_451095_maxs.tiff\"\n",
    "\n",
    "\n",
    "C1 = Calibration(wavelength_A=0.9184)\n",
    "C1.set_image_size(981, height=1043) # Pilatus1M\n",
    "C1.set_pixel_size(pixel_size_um=172.0)\n",
    "\n",
    "C1.set_beam_position(585.5, 1043-433) #After moving closer on 3/18 evening\n",
    "C1.set_distance(0.198) #450004\n",
    "\n",
    "mask_dir = SciAnalysis_PATH + '/SciAnalysis/XSAnalysis/masks/'\n",
    "mask = Mask(mask_dir+'Dectris/Pilatus800k_vertical_gaps-mask.png')\n",
    "\n",
    "\n",
    "plot_giwaxs(SciAnalysis_PATH=SciAnalysis_PATH, cal=C1, mask = mask, image_file=data_name, vmin = 33, vmax = 48)"
   ]
  }
 ],
 "metadata": {
  "kernelspec": {
   "display_name": "Python 3.9.12 ('base')",
   "language": "python",
   "name": "python3"
  },
  "language_info": {
   "name": "python",
   "version": "3.9.12"
  },
  "orig_nbformat": 4,
  "vscode": {
   "interpreter": {
    "hash": "9b5eb16d612f6e97997a2ef20cbe24ecd0e59e92f0aba06ecaeb1634ac87089b"
   }
  }
 },
 "nbformat": 4,
 "nbformat_minor": 2
}
